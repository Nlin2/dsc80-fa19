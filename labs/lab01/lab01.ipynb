{
 "cells": [
  {
   "cell_type": "markdown",
   "metadata": {},
   "source": [
    "# DSC 80: Lab 01\n",
    "\n",
    "### Due Date: Monday October 7, Noon (12:00 PM)"
   ]
  },
  {
   "cell_type": "markdown",
   "metadata": {},
   "source": [
    "## Instructions\n",
    "Much like in DSC 10, this Jupyter Notebook contains the statements of the problems and provides code and markdown cells to display your answers to the problems. Unlike DSC 10, the notebook is *only* for displaying a readable version of your final answers. The coding work will be developed in an accompanying `lab01.py` file, that will be imported into the current notebook.\n",
    "\n",
    "Labs and programming assignments will be graded in (at most) two ways:\n",
    "1. The functions and classes in the accompanying python file will be tested (a la DSC 20),\n",
    "2. The notebook will be graded (for graphs and free response questions).\n",
    "\n",
    "**Do not change the function names in the `*.py` file**\n",
    "- The functions in the `*.py` file are how your assignment is graded, and they are graded by their name. The dictionary at the end of the file (`GRADED FUNCTIONS`) contains the \"grading list\". The final function in the file allows your doctests to check that all the necessary functions exist.\n",
    "- If you changed something you weren't supposed to, just use git to revert!\n",
    "\n",
    "**Tips for working in the Notebook**:\n",
    "- The notebooks serve to present you the questions and give you a place to present your results for later review.\n",
    "- The notebook on *lab assignments* are not graded (only the `.py` file).\n",
    "- Notebooks for PAs will serve as a final report for the assignment, and contain conclusions and answers to open ended questions that are graded.\n",
    "- The notebook serves as a nice environment for 'pre-development' and experimentation before designing your function in your `.py` file.\n",
    "\n",
    "**Tips for developing in the .py file**:\n",
    "- Do not change the function names in the starter code; grading is done using these function names.\n",
    "- Do not change the docstrings in the functions. These are there to tell you if your work is on the right track!\n",
    "- You are encouraged to write your own additional functions to solve the lab! \n",
    "    - Developing in python usually consists of larger files, with many short functions.\n",
    "    - You may write your other functions in an additional `.py` file that you import in `lab01.py` (much like we do in the notebook).\n",
    "- Always document your code!"
   ]
  },
  {
   "cell_type": "markdown",
   "metadata": {},
   "source": [
    "### Importing code from `lab**.py`\n",
    "\n",
    "* We import our `.py` file that's contained in the same directory as this notebook.\n",
    "* We use the `autoreload` notebook extension to make changes to our `lab**.py` file immediately available in our notebook. Without this extension, we would need to restart the notebook kernel to see any changes to `lab**.py` in the notebook.\n",
    "    - `autoreload` is necessary because, upon import, `lab**.py` is compiled to bytecode (in the directory `__pycache__`). Subsequent imports of `lab**` merely import the existing compiled python."
   ]
  },
  {
   "cell_type": "code",
   "execution_count": 1,
   "metadata": {},
   "outputs": [],
   "source": [
    "%load_ext autoreload\n",
    "%autoreload 2"
   ]
  },
  {
   "cell_type": "code",
   "execution_count": 2,
   "metadata": {},
   "outputs": [],
   "source": [
    "import lab01 as lab"
   ]
  },
  {
   "cell_type": "code",
   "execution_count": 3,
   "metadata": {},
   "outputs": [],
   "source": [
    "import os\n",
    "import pandas as pd\n",
    "import numpy as np"
   ]
  },
  {
   "cell_type": "markdown",
   "metadata": {},
   "source": [
    "## Python Basics"
   ]
  },
  {
   "cell_type": "markdown",
   "metadata": {},
   "source": [
    "---\n",
    "**Question 0 (EXAMPLE):**\n",
    "\n",
    "Write a function that takes in a possibly empty list of integers and:\n",
    "* Returns `True` if there exist two adjacent list elements that are consecutive integers.\n",
    "* Otherwise, returns `False`.\n",
    "\n",
    "For example, because `9` is next to `8`:\n",
    "```\n",
    ">>> lab.consecutive_ints([5,3,6,4,9,8])\n",
    "True\n",
    "```\n",
    "Whereas:\n",
    "```\n",
    ">>> lab.consecutive_ints([1,3,5,7,9])\n",
    "False\n",
    "```\n",
    "\n",
    "*Note*: This question is done for you, to demonstrate a completed homework problem."
   ]
  },
  {
   "cell_type": "code",
   "execution_count": 4,
   "metadata": {},
   "outputs": [],
   "source": [
    "# Develop your code here (or in an IDE) if you'd like.\n",
    "# Though only code in lab01.py will be graded!"
   ]
  },
  {
   "cell_type": "code",
   "execution_count": 5,
   "metadata": {},
   "outputs": [],
   "source": [
    "# Add more cells if you'd like!"
   ]
  },
  {
   "cell_type": "markdown",
   "metadata": {},
   "source": [
    "Test your code in two ways:\n",
    "1. Run the cell below to test your code. You should also copy the cell and change the input to test further (i.e. write your own doctests)! Does it work for corner cases? Real-world data is **very messy** and you should expect your data processing code to break without thorough testing!\n",
    "2. Run doctests on `lab01.py` by running the following command on the commandline:\n",
    "```\n",
    "python -m doctest lab01.py\n",
    "```\n",
    "If the doctests pass, then there should be *no* output."
   ]
  },
  {
   "cell_type": "code",
   "execution_count": 6,
   "metadata": {},
   "outputs": [
    {
     "data": {
      "text/plain": [
       "True"
      ]
     },
     "execution_count": 6,
     "metadata": {},
     "output_type": "execute_result"
    }
   ],
   "source": [
    "# test your code!\n",
    "lab.consecutive_ints([1,3,2,4])"
   ]
  },
  {
   "cell_type": "code",
   "execution_count": 7,
   "metadata": {},
   "outputs": [
    {
     "data": {
      "text/plain": [
       "False"
      ]
     },
     "execution_count": 7,
     "metadata": {},
     "output_type": "execute_result"
    }
   ],
   "source": [
    "lab.consecutive_ints([0])"
   ]
  },
  {
   "cell_type": "code",
   "execution_count": 8,
   "metadata": {},
   "outputs": [
    {
     "data": {
      "text/plain": [
       "False"
      ]
     },
     "execution_count": 8,
     "metadata": {},
     "output_type": "execute_result"
    }
   ],
   "source": [
    "lab.consecutive_ints([])"
   ]
  },
  {
   "cell_type": "code",
   "execution_count": null,
   "metadata": {},
   "outputs": [],
   "source": []
  },
  {
   "cell_type": "markdown",
   "metadata": {},
   "source": [
    "---\n",
    "**Question 1 (median):**\n",
    "\n",
    "Write a function called *median* that takes a non-empty list of numbers, returning the median element of the list. If the list has even length, it should return the mean of the two elements in the middle. Do not use any imported libraries for this question; you may use any built-in function.\n"
   ]
  },
  {
   "cell_type": "code",
   "execution_count": 9,
   "metadata": {},
   "outputs": [],
   "source": [
    "def median(nums):\n",
    "    \"\"\"\n",
    "    median takes a non-empty list of numbers,\n",
    "    returning the median element of the list.\n",
    "    If the list has even length, it should return\n",
    "    the mean of the two elements in the middle.\n",
    "\n",
    "    :param nums: a non-empty list of numbers.\n",
    "    :returns: the median of the list.\n",
    "    \n",
    "    :Example:\n",
    "    >>> median([6, 5, 4, 3, 2]) == 4\n",
    "    True\n",
    "    >>> median([50, 20, 15, 40]) == 30\n",
    "    True\n",
    "    >>> median([1, 2, 3, 4]) == 2.5\n",
    "    True\n",
    "    \"\"\"\n",
    "    sortedNums = sorted(nums)\n",
    "    if len(sortedNums) % 2 == 0:\n",
    "        return (sortedNums[len(sortedNums) // 2] + sortedNums[(len(sortedNums) - 1) // 2]) / 2\n",
    "    return sortedNums[(len(sortedNums) - 1) // 2]\n",
    "        \n"
   ]
  },
  {
   "cell_type": "code",
   "execution_count": 10,
   "metadata": {},
   "outputs": [
    {
     "data": {
      "text/plain": [
       "Ellipsis"
      ]
     },
     "execution_count": 10,
     "metadata": {},
     "output_type": "execute_result"
    }
   ],
   "source": [
    "# Try this\n",
    "lab.median([0, -1, 1, 100])"
   ]
  },
  {
   "cell_type": "markdown",
   "metadata": {},
   "source": [
    "---\n",
    "**Question 2 (List Distances):**\n",
    "\n",
    "Similar to Question 0, write a function that takes in a possibly empty list of integers and:\n",
    "* Returns `True` if there exist two list elements $i$ places apart, whose distance as integers is also $i$.\n",
    "* Otherwise, returns `False`.\n",
    "\n",
    "Assume your inputs tend to satisfy the condition, and the pair(s) saitifying the condition tend to be close together; design your function to run faster for this case. (Optimizing your code for an assumed distribution of incoming data is very common in data science).\n",
    "\n",
    "For example, because `3` and (the second) `5` are two places apart, and $|3-5| = 2$:\n",
    "```\n",
    ">>> lab.same_diff_ints([5,3,1,5,9,8])\n",
    "True\n",
    "```\n",
    "Whereas:\n",
    "```\n",
    ">>> lab.same_diff_ints([1,3,5,7,9])\n",
    "False\n",
    "```\n",
    "\n",
    "*Note*: Make sure to define some extreme test cases. Use the `%time` command to time your function!"
   ]
  },
  {
   "cell_type": "code",
   "execution_count": 11,
   "metadata": {},
   "outputs": [],
   "source": [
    "def same_diff_ints(ints):\n",
    "    \"\"\"\n",
    "    same_diff_ints tests whether a list contains\n",
    "    two list elements i places apart, whose distance\n",
    "    as integers is also i.\n",
    "\n",
    "    :param ints: a list of integers\n",
    "    :returns: a boolean value if ints contains two\n",
    "    elements as described above.\n",
    "\n",
    "    :Example:\n",
    "    >>> same_diff_ints([5,3,1,5,9,8])\n",
    "    True\n",
    "    >>> same_diff_ints([1,3,5,7,9])\n",
    "    False\n",
    "    \"\"\"\n",
    "    if len(ints) < 2:\n",
    "        return False\n",
    "    # Concept: since the values are close together, we'll need to iterate by checking distances of 1, \n",
    "    # then distances of 2, and so on\n",
    "    distance = 1\n",
    "    while (len(ints) - distance) != -1:\n",
    "        for i in range(len(ints) - distance):\n",
    "            if abs(ints[i] - ints[i + distance]) == distance:\n",
    "                return True\n",
    "        distance += 1\n",
    "    return False\n",
    "\n"
   ]
  },
  {
   "cell_type": "code",
   "execution_count": 12,
   "metadata": {},
   "outputs": [
    {
     "name": "stdout",
     "output_type": "stream",
     "text": [
      "CPU times: user 3 µs, sys: 1 µs, total: 4 µs\n",
      "Wall time: 5.96 µs\n"
     ]
    },
    {
     "data": {
      "text/plain": [
       "Ellipsis"
      ]
     },
     "execution_count": 12,
     "metadata": {},
     "output_type": "execute_result"
    }
   ],
   "source": [
    "%time lab.same_diff_ints([5,3,1,5,9,8])"
   ]
  },
  {
   "cell_type": "markdown",
   "metadata": {},
   "source": [
    "---\n",
    "## Strings and Files\n",
    "\n",
    "The following questions will help you (re)learn the basics of working with strings and reading data from files (which are read in as strings, by default)."
   ]
  },
  {
   "cell_type": "markdown",
   "metadata": {},
   "source": [
    "---\n",
    "**Question 3 (Prefixes):**\n",
    "\n",
    "Write a function `prefixes` that takes a string and returns a string of every consecutive prefix of the input string. For example, `prefixes('Data!')` should return `'DDaDatDataData!'`.  (See the doctests for more examples).\n",
    "\n",
    "Recall that [strings may be sliced](https://docs.python.org/3/tutorial/introduction.html#strings), like lists.\n"
   ]
  },
  {
   "cell_type": "code",
   "execution_count": 13,
   "metadata": {},
   "outputs": [],
   "source": [
    "def prefixes(s):\n",
    "    \"\"\"\n",
    "    prefixes returns a string of every \n",
    "    consecutive prefix of the input string.\n",
    "\n",
    "    :param s: a string.\n",
    "    :returns: a string of every consecutive prefix of s.\n",
    "\n",
    "    :Example:\n",
    "    >>> prefixes('Data!')\n",
    "    'DDaDatDataData!'\n",
    "    >>> prefixes('Marina')\n",
    "    'MMaMarMariMarinMarina'\n",
    "    >>> prefixes('aaron')\n",
    "    'aaaaaraaroaaron'\n",
    "    \"\"\"\n",
    "    if len(s) == 0:\n",
    "        return \"\"\n",
    "    return prefixes(s[:-1]) + s\n",
    "\n"
   ]
  },
  {
   "cell_type": "markdown",
   "metadata": {},
   "source": [
    "---\n",
    "**Question 4 (Evens reversed):**\n",
    "\n",
    "Write a function `evens_reversed` that takes in a non-negative integer $N$ and returns a string containing all even integers from $1$ to $N$ (inclusive) in reversed order, separated by spaces. Additionally, [zero pad](https://www.tutorialspoint.com/python/string_zfill.htm) each integer, so that each has the same length."
   ]
  },
  {
   "cell_type": "code",
   "execution_count": 20,
   "metadata": {},
   "outputs": [],
   "source": [
    "def evens_reversed(N):\n",
    "    \"\"\"\n",
    "    evens_reversed returns a string containing \n",
    "    all even integers from  1  to  N  (inclusive)\n",
    "    in reversed order, separated by spaces. \n",
    "    Each integer is zero padded.\n",
    "\n",
    "    :param N: a non-negative integer.\n",
    "    :returns: a string containing all even integers \n",
    "    from 1 to N reversed, formatted as decsribed above.\n",
    "\n",
    "    :Example:\n",
    "    >>> evens_reversed(7)\n",
    "    '6 4 2'\n",
    "    >>> evens_reversed(10)\n",
    "    '10 08 06 04 02'\n",
    "    \"\"\"\n",
    "    if N % 2 == 1:\n",
    "        N -= 1\n",
    "    digits = len(str(N))\n",
    "    s = \"\"\n",
    "    while N != 0:\n",
    "        s += \" \" + str(N).zfill(digits)\n",
    "        N -= 2\n",
    "    return s[1:]"
   ]
  },
  {
   "cell_type": "code",
   "execution_count": 21,
   "metadata": {},
   "outputs": [
    {
     "data": {
      "text/plain": [
       "'10 08 06 04 02'"
      ]
     },
     "execution_count": 21,
     "metadata": {},
     "output_type": "execute_result"
    }
   ],
   "source": [
    "evens_reversed(10)"
   ]
  },
  {
   "cell_type": "markdown",
   "metadata": {},
   "source": [
    "---\n",
    "\n",
    "[Recall](https://docs.python.org/3/tutorial/inputoutput.html#reading-and-writing-files) that the built-in function `open` takes in a file path and returns *a file object* (sometimes called a *file handle*). Below are a few properties of file objects:\n",
    "\n",
    "* `open(path)` opens the file at location `path` for reading.\n",
    "* `open(path)` is an *iterable*, which contains successive lines of the file.\n",
    "* Once a file object is opened, after use it should be closed to avoid memory leaks. To ensure a file is closed once done, you should use a *context manager* as follows:\n",
    "```\n",
    "with open(path) as fh:\n",
    "    for line in fh:\n",
    "        process_line(line)\n",
    "```\n",
    "* To read the entire file into a string, use the read method:\n",
    "```\n",
    "with open(path) as fh:\n",
    "    s = fh.read()\n",
    "```\n",
    "However, you should be careful when reading an entire file into memory that the file isn't too big! *You should avoid this whenever possible!*\n",
    "\n",
    "**Question 5 (Reading Files):**\n",
    "\n",
    "Create a function `last_chars` that takes a file object and returns a string consisting of the last character of the line.\n",
    "\n",
    "*Remark:* A newline is the \"delimiter\" of the lines of a file, and doesn't count as part of the line (as the tests imply). Every other character is part of the line. For more info on this, see [the interpretation](https://en.wikipedia.org/wiki/Newline#Interpretation) of files as a 'newline delimited variables' file.\n",
    "\n"
   ]
  },
  {
   "cell_type": "code",
   "execution_count": 25,
   "metadata": {},
   "outputs": [],
   "source": [
    "def last_chars(fh):\n",
    "    \"\"\"\n",
    "    last_chars takes a file object and returns a \n",
    "    string consisting of the last character of the line.\n",
    "\n",
    "    :param fh: a file object to read from.\n",
    "    :returns: a string of last characters from fh\n",
    "\n",
    "    :Example:\n",
    "    >>> fp = os.path.join('data', 'chars.txt')\n",
    "    >>> last_chars(open(fp))\n",
    "    'hrg'\n",
    "    \"\"\"\n",
    "    s = \"\"\n",
    "    for line in fh:\n",
    "        if len(line.strip(\"\\n\")) == 0:\n",
    "            s += \"\"\n",
    "        else:\n",
    "            s += line.strip(\"\\n\")[-1]\n",
    "    return s"
   ]
  },
  {
   "cell_type": "code",
   "execution_count": 26,
   "metadata": {},
   "outputs": [],
   "source": [
    "fp = os.path.join('data', 'chars.txt')"
   ]
  },
  {
   "cell_type": "code",
   "execution_count": 27,
   "metadata": {},
   "outputs": [
    {
     "data": {
      "text/plain": [
       "'hrg'"
      ]
     },
     "execution_count": 27,
     "metadata": {},
     "output_type": "execute_result"
    }
   ],
   "source": [
    "last_chars(open(fp))"
   ]
  },
  {
   "cell_type": "markdown",
   "metadata": {},
   "source": [
    "---\n",
    "\n",
    "## `numpy` exercises\n",
    "\n",
    "For an introduction to arrays and `numpy` recall the relevant section of [DSC 10](https://www.inferentialthinking.com/chapters/05/1/Arrays.html)."
   ]
  },
  {
   "cell_type": "markdown",
   "metadata": {},
   "source": [
    "**Question 6 (Basic Arrays):**\n",
    "\n",
    "Create the following functions using `numpy` methods satisfying the requirements given in each part. Your solutions should **not** contain any loops or list comprehensions.\n",
    "\n",
    "* A function `arr_1` that takes in a `numpy` array and adds to each element the square-root of the index of each element.\n",
    "\n",
    "* A function `arr_2` that takes in a `numpy` array of integers and returns a boolean array (i.e. an array of booleans) whose `ith` element is `True` if and only if the `ith` element of the input array is divisble by 16.\n",
    "\n",
    "* A function `arr_3` that takes in a `numpy` array of [stock prices](https://en.wikipedia.org/wiki/Stock) per share on successive days in USD and returns an array of growth rates. That is, the `ith` number of the output array should contain the rate of growth in stock price between the $i^{th}$ day to the $(i+1)^{th}$ day. The growth rate should be a proportion, rounded to the nearest hundredth.\n",
    "\n",
    "* Suppose:\n",
    "    - `A` is a `numpy` array of [stock prices](https://en.wikipedia.org/wiki/Stock) per share for a company on successive days in USD \n",
    "    - you start with \\\\$20, and put aside \\\\$20 at the end of each day to buy as much stock as possible the following day. \n",
    "    - Any money left-over after a given day is saved for possibly buying stock on a future day. \n",
    "    - Create a function `arr_4` that takes in `A` and returns the day on which you can buy at least one share from 'left-over' money. If this never happens, return `-1`. The first stock purchase occurs on day 0. *Note: you cannot buy fractions of a share of stock*.\n",
    "    \n",
    "*Example:* If the stock price is \\\\$3 every day, then the answer is 'day 1':\n",
    "* day 0: buy 6 shares; \\\\$2 left-over; \\\\$22 at end of day.\n",
    "* day 1: buy 7 shares; \\\\$1 left-over; \\\\$21 at end of day.\n",
    "This is more than the 6 shares that \\\\$20 can buy."
   ]
  },
  {
   "cell_type": "code",
   "execution_count": 16,
   "metadata": {},
   "outputs": [],
   "source": [
    "fp = os.path.join('data', 'stocks.csv')\n",
    "stocks = np.array([float(x) for x in open(fp)])"
   ]
  },
  {
   "cell_type": "code",
   "execution_count": 174,
   "metadata": {},
   "outputs": [],
   "source": [
    "def arr_3(A):\n",
    "    \"\"\"\n",
    "    arr_3 takes in a numpy array of stock\n",
    "    prices per share on successive days in\n",
    "    USD and returns an array of growth rates.\n",
    "\n",
    "    :param A: a 1d numpy array.\n",
    "    :returns: a 1d numpy array.\n",
    "\n",
    "    :Example:\n",
    "    >>> fp = os.path.join('data', 'stocks.csv')\n",
    "    >>> stocks = np.array([float(x) for x in open(fp)])\n",
    "    >>> out = arr_3(stocks)\n",
    "    >>> isinstance(out, np.ndarray)\n",
    "    True\n",
    "    >>> out.dtype == np.dtype('float')\n",
    "    True\n",
    "    >>> out.max() == 0.03\n",
    "    True\n",
    "    \"\"\"\n",
    "    \n",
    "    return np.round(A[1:] / A[:-1] - 1, 2)\n",
    "\n"
   ]
  },
  {
   "cell_type": "code",
   "execution_count": 175,
   "metadata": {},
   "outputs": [
    {
     "data": {
      "text/plain": [
       "array([-0.  ,  0.01, -0.01,  0.  ,  0.  , -0.  ,  0.02,  0.01,  0.02,\n",
       "        0.01,  0.01,  0.  ,  0.  ,  0.01, -0.  , -0.01, -0.  ,  0.  ,\n",
       "       -0.01,  0.01,  0.  , -0.  ,  0.02,  0.  ,  0.01, -0.  ,  0.  ,\n",
       "        0.01, -0.02,  0.01,  0.  , -0.01,  0.01,  0.  , -0.  , -0.01,\n",
       "        0.01,  0.03, -0.01, -0.  ,  0.01,  0.01,  0.  ,  0.  , -0.  ,\n",
       "        0.01,  0.01, -0.  ,  0.  ,  0.02, -0.01, -0.01,  0.01, -0.01,\n",
       "        0.01,  0.02, -0.01, -0.01, -0.  ,  0.01,  0.  , -0.  ,  0.  ,\n",
       "        0.01, -0.  ,  0.01, -0.  ,  0.01,  0.01,  0.01, -0.  , -0.  ,\n",
       "        0.01,  0.  ,  0.  ,  0.02, -0.02, -0.  ,  0.01,  0.  ,  0.01,\n",
       "        0.01, -0.  , -0.02, -0.01, -0.01, -0.01, -0.01,  0.  ,  0.01,\n",
       "        0.01,  0.01, -0.  ,  0.  , -0.  , -0.01,  0.01,  0.01,  0.  ])"
      ]
     },
     "execution_count": 175,
     "metadata": {},
     "output_type": "execute_result"
    }
   ],
   "source": [
    "arr_3(stocks)"
   ]
  },
  {
   "cell_type": "code",
   "execution_count": 65,
   "metadata": {},
   "outputs": [],
   "source": [
    "def arr_1(A):\n",
    "    \"\"\"\n",
    "    arr_1 takes in a numpy array and\n",
    "    adds to each element the square-root of\n",
    "    the index of each element.\n",
    "\n",
    "    :param A: a 1d numpy array.\n",
    "    :returns: a 1d numpy array.\n",
    "\n",
    "    :Example:\n",
    "    >>> A = np.array([2, 4, 6, 7])\n",
    "    >>> out = arr_1(A)\n",
    "    >>> isinstance(out, np.ndarray)\n",
    "    True\n",
    "    >>> np.all(out >= A)\n",
    "    True\n",
    "    \"\"\"\n",
    "\n",
    "    return A + np.sqrt(np.arange(len(A)))\n",
    "\n",
    "\n",
    "def arr_2(A):\n",
    "    \"\"\"\n",
    "    arr_2 takes in a numpy array of integers\n",
    "    and returns a boolean array (i.e. an array of booleans)\n",
    "    whose ith element is True if and only if the ith element\n",
    "    of the input array is divisble by 16.\n",
    "\n",
    "    :param A: a 1d numpy array.\n",
    "    :returns: a 1d numpy boolean array.\n",
    "\n",
    "    :Example:\n",
    "    >>> out = arr_2(np.array([1, 2, 16, 17, 32, 33]))\n",
    "    >>> isinstance(out, np.ndarray)\n",
    "    True\n",
    "    >>> out.dtype == np.dtype('bool')\n",
    "    True\n",
    "    \"\"\"\n",
    "\n",
    "    return A % 16 == 0\n",
    "\n",
    "\n",
    "def arr_3(A):\n",
    "    \"\"\"\n",
    "    arr_3 takes in a numpy array of stock\n",
    "    prices per share on successive days in\n",
    "    USD and returns an array of growth rates.\n",
    "\n",
    "    :param A: a 1d numpy array.\n",
    "    :returns: a 1d numpy array.\n",
    "\n",
    "    :Example:\n",
    "    >>> fp = os.path.join('data', 'stocks.csv')\n",
    "    >>> stocks = np.array([float(x) for x in open(fp)])\n",
    "    >>> out = arr_3(stocks)\n",
    "    >>> isinstance(out, np.ndarray)\n",
    "    True\n",
    "    >>> out.dtype == np.dtype('float')\n",
    "    True\n",
    "    >>> out.max() == 0.03\n",
    "    True\n",
    "    \"\"\"\n",
    "    \n",
    "    return np.round(A[:-1] / A[1:] - 1, 2)\n",
    "    \n",
    "\n",
    "def arr_4(A):\n",
    "    \"\"\"\n",
    "    Create a function arr_4 that takes in A and \n",
    "    returns the day on which you can buy at least \n",
    "    one share from 'left-over' money. If this never \n",
    "    happens, return -1. The first stock purchase occurs on day 0\n",
    "    :param A: a 1d numpy array of stock prices.\n",
    "    :returns: an integer of the total number of shares.\n",
    "\n",
    "    :Example:\n",
    "    >>> import numbers\n",
    "    >>> stocks = np.array([3, 3, 3, 3])\n",
    "    >>> out = arr_4(stocks)\n",
    "    >>> isinstance(out, numbers.Integral)\n",
    "    True\n",
    "    >>> out == 1\n",
    "    True\n",
    "    \"\"\"\n",
    "    leftOver = np.cumsum(20 % A)\n",
    "    ans = np.where(A <= leftOver)\n",
    "    if len(ans[0]):\n",
    "        return(ans[0][0])\n",
    "    return(-1)"
   ]
  },
  {
   "cell_type": "code",
   "execution_count": 80,
   "metadata": {
    "scrolled": false
   },
   "outputs": [
    {
     "name": "stdout",
     "output_type": "stream",
     "text": [
      "[2 2 4 4]\n",
      "[3 5 6 4]\n",
      "3\n"
     ]
    }
   ],
   "source": [
    "A = np.array([3, 5, 6, 4])\n",
    "leftOver = np.cumsum(20 % A)\n",
    "ans = np.where(A <= leftOver)\n",
    "if len(ans[0]):\n",
    "    print(ans[0][0])\n",
    "else:\n",
    "    print(-1)"
   ]
  },
  {
   "cell_type": "code",
   "execution_count": 73,
   "metadata": {},
   "outputs": [
    {
     "data": {
      "text/plain": [
       "array([3, 3, 5, 5])"
      ]
     },
     "execution_count": 73,
     "metadata": {},
     "output_type": "execute_result"
    }
   ],
   "source": [
    "A"
   ]
  },
  {
   "cell_type": "code",
   "execution_count": 74,
   "metadata": {},
   "outputs": [
    {
     "data": {
      "text/plain": [
       "array([2, 4, 4, 4])"
      ]
     },
     "execution_count": 74,
     "metadata": {},
     "output_type": "execute_result"
    }
   ],
   "source": [
    "leftOver"
   ]
  },
  {
   "cell_type": "code",
   "execution_count": 64,
   "metadata": {},
   "outputs": [
    {
     "name": "stdout",
     "output_type": "stream",
     "text": [
      "[2 2 2 2]\n",
      "-1\n"
     ]
    },
    {
     "name": "stderr",
     "output_type": "stream",
     "text": [
      "/Users/nicklin/anaconda3/lib/python3.7/site-packages/ipykernel_launcher.py:5: DeprecationWarning: The truth value of an empty array is ambiguous. Returning False, but in future this will result in an error. Use `array.size > 0` to check that an array is not empty.\n",
      "  \"\"\"\n"
     ]
    }
   ],
   "source": [
    "A = np.array([3, 5, 5, 5])\n",
    "leftOver = np.cumsum(20 % A)\n",
    "print(leftOver)\n",
    "ans = np.where(A[1:] <= leftOver[:-1])\n",
    "if ans[0]:\n",
    "    print(ans[0][0])\n",
    "else:\n",
    "    print(-1)"
   ]
  },
  {
   "cell_type": "markdown",
   "metadata": {},
   "source": [
    "---\n",
    "## Getting Started with Pandas\n",
    "\n",
    "The following questions will help you get comfortable with Pandas. These questions are similar to questions on tables in DSC 10; review the [textbook](https://www.inferentialthinking.com) as necessary. As always for Pandas questions:\n",
    "1. Avoid writing loops through the rows of the dataset to do the problem, and\n",
    "2. Test the output/correctness of your code with the help of the dataset given, but be sure your code will also run on data \"like\" the dataset given (sampling rows using the `.sample` method is useful for this!).\n",
    "\n",
    "**Question 7 (Pandas basics):**\n",
    "\n",
    "Read in the file `movies_by_year.csv` in the `data` directory and understand the dataset by answering the following questions. To do this, create a function `movie_stats` that takes in a dataframe like `movies` and returns a series containing the following statistics:\n",
    "* The number of years covered by the dataset (`num_years`).\n",
    "* The total number of movies made over all years in the dataset (`tot_movies`).\n",
    "* The year with the fewest number of movies made; a tie should return the earliest year (`yr_fewest_movies`).\n",
    "* The average amount of money grossed over all the years in the dataset (`avg_gross`).\n",
    "* The year with the highest gross *per movie* (`highest_per_movie`).\n",
    "* The name of the top movie during the second-lowest (total) grossing year (`second_lowest`).\n",
    "* The average number of movies made the year *after* a Harry Potter movie was the #1 movie (`avg_after_harry`).\n",
    "\n",
    "The index of the output series are given in parenthesis above.\n",
    "\n",
    "*Note*: Your function should work on a dataset of the same format that contains information from other years. You may assume that none of the answers involving ranking returns a tie.\n",
    "\n",
    "*Note*: To make sure your function still runs, in the event that one of the 7 parts throws an exception (e.g. due to a very incorrect answer), use `Try... Except...` structures."
   ]
  },
  {
   "cell_type": "code",
   "execution_count": 17,
   "metadata": {},
   "outputs": [],
   "source": [
    "movie_fp = os.path.join('data', 'movies_by_year.csv')\n",
    "movies = pd.read_csv(movie_fp)"
   ]
  },
  {
   "cell_type": "code",
   "execution_count": 89,
   "metadata": {},
   "outputs": [
    {
     "data": {
      "text/html": [
       "<div>\n",
       "<style scoped>\n",
       "    .dataframe tbody tr th:only-of-type {\n",
       "        vertical-align: middle;\n",
       "    }\n",
       "\n",
       "    .dataframe tbody tr th {\n",
       "        vertical-align: top;\n",
       "    }\n",
       "\n",
       "    .dataframe thead th {\n",
       "        text-align: right;\n",
       "    }\n",
       "</style>\n",
       "<table border=\"1\" class=\"dataframe\">\n",
       "  <thead>\n",
       "    <tr style=\"text-align: right;\">\n",
       "      <th></th>\n",
       "      <th>Year</th>\n",
       "      <th>Total Gross</th>\n",
       "      <th>Number of Movies</th>\n",
       "      <th>#1 Movie</th>\n",
       "    </tr>\n",
       "  </thead>\n",
       "  <tbody>\n",
       "    <tr>\n",
       "      <th>0</th>\n",
       "      <td>2015</td>\n",
       "      <td>11128.5</td>\n",
       "      <td>702</td>\n",
       "      <td>Star Wars: The Force Awakens</td>\n",
       "    </tr>\n",
       "    <tr>\n",
       "      <th>1</th>\n",
       "      <td>2014</td>\n",
       "      <td>10360.8</td>\n",
       "      <td>702</td>\n",
       "      <td>American Sniper</td>\n",
       "    </tr>\n",
       "    <tr>\n",
       "      <th>2</th>\n",
       "      <td>2013</td>\n",
       "      <td>10923.6</td>\n",
       "      <td>688</td>\n",
       "      <td>Catching Fire</td>\n",
       "    </tr>\n",
       "    <tr>\n",
       "      <th>3</th>\n",
       "      <td>2012</td>\n",
       "      <td>10837.4</td>\n",
       "      <td>667</td>\n",
       "      <td>The Avengers</td>\n",
       "    </tr>\n",
       "    <tr>\n",
       "      <th>4</th>\n",
       "      <td>2011</td>\n",
       "      <td>10174.3</td>\n",
       "      <td>602</td>\n",
       "      <td>Harry Potter / Deathly Hallows (P2)</td>\n",
       "    </tr>\n",
       "  </tbody>\n",
       "</table>\n",
       "</div>"
      ],
      "text/plain": [
       "   Year  Total Gross  Number of Movies                             #1 Movie\n",
       "0  2015      11128.5               702         Star Wars: The Force Awakens\n",
       "1  2014      10360.8               702                      American Sniper\n",
       "2  2013      10923.6               688                        Catching Fire\n",
       "3  2012      10837.4               667                         The Avengers\n",
       "4  2011      10174.3               602  Harry Potter / Deathly Hallows (P2)"
      ]
     },
     "execution_count": 89,
     "metadata": {},
     "output_type": "execute_result"
    }
   ],
   "source": [
    "movies.head()"
   ]
  },
  {
   "cell_type": "code",
   "execution_count": 131,
   "metadata": {
    "scrolled": false
   },
   "outputs": [
    {
     "ename": "NameError",
     "evalue": "name 'firstHarryPotterYear' is not defined",
     "output_type": "error",
     "traceback": [
      "\u001b[0;31m---------------------------------------------------------------------------\u001b[0m",
      "\u001b[0;31mNameError\u001b[0m                                 Traceback (most recent call last)",
      "\u001b[0;32m<ipython-input-131-cf5eac9b2d5c>\u001b[0m in \u001b[0;36m<module>\u001b[0;34m\u001b[0m\n\u001b[0;32m----> 1\u001b[0;31m \u001b[0mnp\u001b[0m\u001b[0;34m.\u001b[0m\u001b[0mmean\u001b[0m\u001b[0;34m(\u001b[0m\u001b[0mmovies\u001b[0m\u001b[0;34m[\u001b[0m\u001b[0mmovies\u001b[0m\u001b[0;34m[\u001b[0m\u001b[0;34m\"Year\"\u001b[0m\u001b[0;34m]\u001b[0m \u001b[0;34m>\u001b[0m \u001b[0mfirstHarryPotterYear\u001b[0m\u001b[0;34m]\u001b[0m\u001b[0;34m[\u001b[0m\u001b[0;34m\"Number of Movies\"\u001b[0m\u001b[0;34m]\u001b[0m\u001b[0;34m)\u001b[0m\u001b[0;34m\u001b[0m\u001b[0;34m\u001b[0m\u001b[0m\n\u001b[0m",
      "\u001b[0;31mNameError\u001b[0m: name 'firstHarryPotterYear' is not defined"
     ]
    }
   ],
   "source": [
    "np.mean(movies[movies[\"Year\"] > firstHarryPotterYear][\"Number of Movies\"])"
   ]
  },
  {
   "cell_type": "code",
   "execution_count": 133,
   "metadata": {},
   "outputs": [
    {
     "data": {
      "text/plain": [
       "num_years                            34\n",
       "tot_movies                        17834\n",
       "yr_fewest_movies                   1990\n",
       "avg_gross                       7226.91\n",
       "highest_per_movie                  1984\n",
       "second_lowest        Back to the Future\n",
       "avg_after_harry                 596.286\n",
       "dtype: object"
      ]
     },
     "execution_count": 133,
     "metadata": {},
     "output_type": "execute_result"
    }
   ],
   "source": [
    "movies = movies.sort_values(\"Year\")\n",
    "d = {}\n",
    "d[\"num_years\"] = len(movies.groupby(\"Year\").count())\n",
    "d[\"tot_movies\"] = sum(movies[\"Number of Movies\"])\n",
    "d[\"yr_fewest_movies\"] = movies[movies[\"Number of Movies\"] == min(movies[\"Number of Movies\"])].sort_values(\"Year\").iloc[0][\"Year\"]\n",
    "d[\"avg_gross\"] = sum(movies[\"Total Gross\"]) / d[\"num_years\"]\n",
    "d[\"highest_per_movie\"] = movies.loc[(movies[\"Total Gross\"] / movies[\"Number of Movies\"]).idxmin()][\"Year\"]\n",
    "d[\"second_lowest\"] = movies.sort_values(\"Total Gross\").iloc[1][\"#1 Movie\"]\n",
    "firstHarryPotterYear = movies[movies[\"#1 Movie\"].str.contains(\"Harry Potter\")].sort_values(\"Year\").iloc[0][\"Year\"]\n",
    "d[\"avg_after_harry\"] = np.mean(movies[movies[\"Year\"] > firstHarryPotterYear][\"Number of Movies\"])\n",
    "pd.Series(d)"
   ]
  },
  {
   "cell_type": "code",
   "execution_count": 96,
   "metadata": {},
   "outputs": [
    {
     "data": {
      "text/plain": [
       "Year                      1990\n",
       "Total Gross             5021.8\n",
       "Number of Movies           410\n",
       "#1 Movie            Home Alone\n",
       "Name: 25, dtype: object"
      ]
     },
     "execution_count": 96,
     "metadata": {},
     "output_type": "execute_result"
    }
   ],
   "source": [
    "movies[movies[\"Number of Movies\"] == min(movies[\"Number of Movies\"])].sort_values(\"Year\").iloc[0][\"Year\"]"
   ]
  },
  {
   "cell_type": "code",
   "execution_count": null,
   "metadata": {},
   "outputs": [],
   "source": [
    "# ---------------------------------------------------------------------\n",
    "# Question # 7\n",
    "# ---------------------------------------------------------------------\n",
    "\n",
    "def movie_stats(movies):\n",
    "    \"\"\"\n",
    "    movies_stats returns a series as specified in the notebook.\n",
    "\n",
    "    :param movies: a dataframe of summaries of\n",
    "    movies per year as found in `movies_by_year.csv`\n",
    "    :return: a series with index specified in the notebook.\n",
    "\n",
    "    :Example:\n",
    "    >>> movie_fp = os.path.join('data', 'movies_by_year.csv')\n",
    "    >>> movies = pd.read_csv(movie_fp)\n",
    "    >>> out = movie_stats(movies)\n",
    "    >>> isinstance(out, pd.Series)\n",
    "    True\n",
    "    >>> 'num_years' in out.index\n",
    "    True\n",
    "    >>> isinstance(out.loc['second_lowest'], str)\n",
    "    True\n",
    "    \"\"\"\n",
    "    movies = movies.sort_values(\"Year\")\n",
    "    d = {}\n",
    "    try:\n",
    "        d[\"num_years\"] = len(movies.groupby(\"Year\").count())\n",
    "    except:\n",
    "        d[\"num_years\"] = -1\n",
    "    try:\n",
    "        d[\"tot_movies\"] = sum(movies[\"Number of Movies\"])\n",
    "    except:\n",
    "        d[\"tot_movies\"] = -1\n",
    "    try:\n",
    "        d[\"yr_fewest_movies\"] = movies[movies[\"Number of Movies\"] == min(movies[\"Number of Movies\"])].sort_values(\"Year\").iloc[0][\"Year\"]\n",
    "    except:\n",
    "        d[\"yr_fewest_movies\"] = -1\n",
    "    try:\n",
    "        d[\"avg_gross\"] = sum(movies[\"Total Gross\"]) / d[\"num_years\"]\n",
    "    except:\n",
    "        d[\"avg_gross\"] = -1\n",
    "    try:\n",
    "        d[\"highest_per_movie\"] = movies.loc[(movies[\"Total Gross\"] / movies[\"Number of Movies\"]).idxmin()][\"Year\"]\n",
    "    except:\n",
    "        d[\"highest_per_movie\"] = -1\n",
    "    try:\n",
    "        d[\"second_lowest\"] = movies.sort_values(\"Total Gross\").iloc[1][\"#1 Movie\"]\n",
    "    except:\n",
    "        d[\"second_lowest\"] = -1\n",
    "    try:\n",
    "        firstHarryPotterYear = movies[movies[\"#1 Movie\"].str.contains(\"Harry Potter\")].sort_values(\"Year\").iloc[0][\"Year\"]\n",
    "        d[\"avg_after_harry\"] = np.mean(movies[movies[\"Year\"] > firstHarryPotterYear][\"Number of Movies\"])\n",
    "    except:\n",
    "        d[\"avg_after_harry\"] = -1\n",
    "    return pd.Series(d)"
   ]
  },
  {
   "cell_type": "markdown",
   "metadata": {},
   "source": [
    "---\n",
    "\n",
    "## CSV Files\n",
    "\n",
    "**Question 8 (Reading malformed csv files):**\n",
    "\n",
    "`malformed.csv` contains a file of comma-separated values, containing the following fields:\n",
    "\n",
    "\n",
    "|column name|description|type|\n",
    "|---|---|---|\n",
    "|first|first name of person|str|\n",
    "|last|last name of person|str|\n",
    "|weight|weight of person (lbs)|float|\n",
    "|height|height of person (in)|float|\n",
    "|geo|location of person; comma-separated latitude/longitude|str|\n",
    "\n",
    "Unfortunately, the entries contains errors that cause the Pandas `read_csv` function to fail parsing the file with the default settings. Instead, you must read in the file manually using Python's built-in `open` function.\n",
    "\n",
    "Clean the csv file into a Pandas DataFrame with columns as described in the table above, by creating a function called `parse_malformed` that takes in a file path and returns a parsed, properly-typed dataframe. The dataframe should contain columns as described in the table above (with the specified types); it should agree with `pd.read_csv` when the lines are not malformed.\n",
    "\n",
    "\n",
    "*Note:* Assume that the given csv file is a sample of a larger file; you will be graded against a **different** sample of the larger file that has the same type of parsing errors. That is, you should **not** hard-code your cleaning of the data to specific errors on specific lines in the data."
   ]
  },
  {
   "cell_type": "code",
   "execution_count": 134,
   "metadata": {},
   "outputs": [],
   "source": [
    "fp = os.path.join('data', 'malformed.csv')"
   ]
  },
  {
   "cell_type": "code",
   "execution_count": 168,
   "metadata": {},
   "outputs": [],
   "source": [
    "with open(fp, \"r\") as csv:\n",
    "    l = []\n",
    "    columns = csv.readline().strip().split(\",\")\n",
    "    for line in csv:\n",
    "        row = line.strip().split(\",\")\n",
    "        row = list(filter(None, row))\n",
    "        row[4] = f\"{row[4]}, {row[5]}\".replace('\"', '')\n",
    "        row = row[:-1]\n",
    "        row[3] = float(row[3].replace('\"', ''))\n",
    "        row[2] = float(row[2].replace('\"', ''))\n",
    "        l.append(row)\n",
    "df = pd.DataFrame(l, columns=columns)"
   ]
  },
  {
   "cell_type": "code",
   "execution_count": 169,
   "metadata": {},
   "outputs": [
    {
     "data": {
      "text/html": [
       "<div>\n",
       "<style scoped>\n",
       "    .dataframe tbody tr th:only-of-type {\n",
       "        vertical-align: middle;\n",
       "    }\n",
       "\n",
       "    .dataframe tbody tr th {\n",
       "        vertical-align: top;\n",
       "    }\n",
       "\n",
       "    .dataframe thead th {\n",
       "        text-align: right;\n",
       "    }\n",
       "</style>\n",
       "<table border=\"1\" class=\"dataframe\">\n",
       "  <thead>\n",
       "    <tr style=\"text-align: right;\">\n",
       "      <th></th>\n",
       "      <th>first</th>\n",
       "      <th>last</th>\n",
       "      <th>weight</th>\n",
       "      <th>height</th>\n",
       "      <th>geo</th>\n",
       "    </tr>\n",
       "  </thead>\n",
       "  <tbody>\n",
       "    <tr>\n",
       "      <th>9</th>\n",
       "      <td>Yvette</td>\n",
       "      <td>Trayce</td>\n",
       "      <td>179.0</td>\n",
       "      <td>67.0</td>\n",
       "      <td>36.9, -8.3</td>\n",
       "    </tr>\n",
       "    <tr>\n",
       "      <th>10</th>\n",
       "      <td>Cody</td>\n",
       "      <td>Hatim</td>\n",
       "      <td>150.0</td>\n",
       "      <td>63.0</td>\n",
       "      <td>38.0, -7.3</td>\n",
       "    </tr>\n",
       "    <tr>\n",
       "      <th>11</th>\n",
       "      <td>Marissa</td>\n",
       "      <td>Daud</td>\n",
       "      <td>135.0</td>\n",
       "      <td>58.0</td>\n",
       "      <td>37.3, 11.0</td>\n",
       "    </tr>\n",
       "    <tr>\n",
       "      <th>12</th>\n",
       "      <td>Logan</td>\n",
       "      <td>Cristel</td>\n",
       "      <td>133.0</td>\n",
       "      <td>67.0</td>\n",
       "      <td>35.5, -110.2</td>\n",
       "    </tr>\n",
       "  </tbody>\n",
       "</table>\n",
       "</div>"
      ],
      "text/plain": [
       "      first     last  weight  height           geo\n",
       "9    Yvette   Trayce   179.0    67.0    36.9, -8.3\n",
       "10     Cody    Hatim   150.0    63.0    38.0, -7.3\n",
       "11  Marissa     Daud   135.0    58.0    37.3, 11.0\n",
       "12    Logan  Cristel   133.0    67.0  35.5, -110.2"
      ]
     },
     "execution_count": 169,
     "metadata": {},
     "output_type": "execute_result"
    }
   ],
   "source": [
    "df.iloc[9:13]"
   ]
  },
  {
   "cell_type": "code",
   "execution_count": 171,
   "metadata": {},
   "outputs": [
    {
     "data": {
      "text/html": [
       "<div>\n",
       "<style scoped>\n",
       "    .dataframe tbody tr th:only-of-type {\n",
       "        vertical-align: middle;\n",
       "    }\n",
       "\n",
       "    .dataframe tbody tr th {\n",
       "        vertical-align: top;\n",
       "    }\n",
       "\n",
       "    .dataframe thead th {\n",
       "        text-align: right;\n",
       "    }\n",
       "</style>\n",
       "<table border=\"1\" class=\"dataframe\">\n",
       "  <thead>\n",
       "    <tr style=\"text-align: right;\">\n",
       "      <th></th>\n",
       "      <th>first</th>\n",
       "      <th>last</th>\n",
       "      <th>weight</th>\n",
       "      <th>height</th>\n",
       "      <th>geo</th>\n",
       "    </tr>\n",
       "  </thead>\n",
       "  <tbody>\n",
       "    <tr>\n",
       "      <th>0</th>\n",
       "      <td>Yvette</td>\n",
       "      <td>Trayce</td>\n",
       "      <td>179.0</td>\n",
       "      <td>67.0</td>\n",
       "      <td>36.9,-8.3</td>\n",
       "    </tr>\n",
       "    <tr>\n",
       "      <th>1</th>\n",
       "      <td>Cody</td>\n",
       "      <td>Hatim</td>\n",
       "      <td>150.0</td>\n",
       "      <td>63.0</td>\n",
       "      <td>38.0,-7.3</td>\n",
       "    </tr>\n",
       "    <tr>\n",
       "      <th>2</th>\n",
       "      <td>Marissa</td>\n",
       "      <td>Daud</td>\n",
       "      <td>135.0</td>\n",
       "      <td>58.0</td>\n",
       "      <td>37.3,11.0</td>\n",
       "    </tr>\n",
       "    <tr>\n",
       "      <th>3</th>\n",
       "      <td>Logan</td>\n",
       "      <td>Cristel</td>\n",
       "      <td>133.0</td>\n",
       "      <td>67.0</td>\n",
       "      <td>35.5,-110.2</td>\n",
       "    </tr>\n",
       "  </tbody>\n",
       "</table>\n",
       "</div>"
      ],
      "text/plain": [
       "     first     last  weight  height          geo\n",
       "0   Yvette   Trayce   179.0    67.0    36.9,-8.3\n",
       "1     Cody    Hatim   150.0    63.0    38.0,-7.3\n",
       "2  Marissa     Daud   135.0    58.0    37.3,11.0\n",
       "3    Logan  Cristel   133.0    67.0  35.5,-110.2"
      ]
     },
     "execution_count": 171,
     "metadata": {},
     "output_type": "execute_result"
    }
   ],
   "source": [
    "pd.read_csv(fp, nrows=4, skiprows=10, names=columns)"
   ]
  },
  {
   "cell_type": "code",
   "execution_count": null,
   "metadata": {},
   "outputs": [],
   "source": [
    "\n",
    "\n",
    "# ---------------------------------------------------------------------\n",
    "# Question # 8\n",
    "# ---------------------------------------------------------------------\n",
    "\n",
    "def parse_malformed(fp):\n",
    "    \"\"\"\n",
    "    Parses and loads the malformed csv data into a \n",
    "    properly formatted dataframe (as described in \n",
    "    the question).\n",
    "\n",
    "    :param fh: file handle for the malformed csv-file.\n",
    "    :returns: a Pandas DataFrame of the data, \n",
    "    as specificed in the question statement.\n",
    "\n",
    "    :Example:\n",
    "    >>> fp = os.path.join('data', 'malformed.csv')\n",
    "    >>> df = parse_malformed(fp)\n",
    "    >>> cols = ['first', 'last', 'weight', 'height', 'geo']\n",
    "    >>> list(df.columns) == cols\n",
    "    True\n",
    "    >>> df['last'].dtype == np.dtype('O')\n",
    "    True\n",
    "    >>> df['height'].dtype == np.dtype('float64')\n",
    "    True\n",
    "    >>> df['geo'].str.contains(',').all()\n",
    "    True\n",
    "    >>> len(df) == 100\n",
    "    True\n",
    "    >>> dg = pd.read_csv(fp, nrows=4, skiprows=10, names=cols)\n",
    "    >>> dg.index = range(9, 13)\n",
    "    >>> (dg == df.iloc[9:13]).all().all()\n",
    "    True\n",
    "    \"\"\"\n",
    "\n",
    "    with open(fp, \"r\") as csv:\n",
    "    l = []\n",
    "    columns = csv.readline().strip().split(\",\")\n",
    "    for line in csv:\n",
    "        row = line.strip().split(\",\")\n",
    "        row = list(filter(None, row))\n",
    "        row[4] = f\"{row[4]},{row[5]}\".replace('\"', '')\n",
    "        row = row[:-1]\n",
    "        row[3] = float(row[3].replace('\"', ''))\n",
    "        row[2] = float(row[2].replace('\"', ''))\n",
    "        l.append(row)\n",
    "    return pd.DataFrame(l, columns=columns)"
   ]
  },
  {
   "cell_type": "markdown",
   "metadata": {},
   "source": [
    "## Congratulations! You're done!\n",
    "\n",
    "* Submit the lab on Gradescope"
   ]
  },
  {
   "cell_type": "code",
   "execution_count": null,
   "metadata": {},
   "outputs": [],
   "source": []
  }
 ],
 "metadata": {
  "kernelspec": {
   "display_name": "Python 3",
   "language": "python",
   "name": "python3"
  },
  "language_info": {
   "codemirror_mode": {
    "name": "ipython",
    "version": 3
   },
   "file_extension": ".py",
   "mimetype": "text/x-python",
   "name": "python",
   "nbconvert_exporter": "python",
   "pygments_lexer": "ipython3",
   "version": "3.7.3"
  }
 },
 "nbformat": 4,
 "nbformat_minor": 2
}
